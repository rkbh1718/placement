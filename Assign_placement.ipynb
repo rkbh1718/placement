{
 "cells": [
  {
   "cell_type": "markdown",
   "id": "64e8ed0b",
   "metadata": {},
   "source": [
    "## 1. Create a function in python to read the text file and replace specific content of the file."
   ]
  },
  {
   "cell_type": "code",
   "execution_count": 37,
   "id": "6fe4054a",
   "metadata": {},
   "outputs": [],
   "source": [
    "def CallFun():\n",
    "    with open('example.txt', 'w') as f:\n",
    "        f.write(\"This is a placement assignment\")\n",
    "        \n",
    "    with open('example.txt', 'r') as f :\n",
    "        filedata = f.read()\n",
    "\n",
    "# Replace the target string\n",
    "    filedata = filedata.replace('placement', 'screening')\n",
    "\n",
    "# Write the file out again\n",
    "    with open('example.txt', 'w') as f:\n",
    "        f.write(filedata)"
   ]
  },
  {
   "cell_type": "code",
   "execution_count": 38,
   "id": "0c27f27b",
   "metadata": {},
   "outputs": [],
   "source": [
    "CallFun()"
   ]
  },
  {
   "cell_type": "markdown",
   "id": "8e5e486b",
   "metadata": {},
   "source": [
    "## 2 Demonstrate use of abstract class, multiple inheritance and decorator in python using examples."
   ]
  },
  {
   "cell_type": "markdown",
   "id": "b8bbc0ca",
   "metadata": {},
   "source": [
    "# Abstract Class"
   ]
  },
  {
   "cell_type": "markdown",
   "id": "459dbd93",
   "metadata": {},
   "source": [
    "#### Abstract Class must have one abstract method in a class, abstract method means which doesnt have defeniation only declairation  \n",
    "#### In Python bydefalut it doesnot support we need to import ABC class ie Abstract Base Class"
   ]
  },
  {
   "cell_type": "code",
   "execution_count": 45,
   "id": "42f9f1be",
   "metadata": {},
   "outputs": [
    {
     "name": "stdout",
     "output_type": "stream",
     "text": [
      "running\n",
      "solving\n"
     ]
    }
   ],
   "source": [
    "from abc import ABC, abstractmethod\n",
    "\n",
    "class Computer(ABC):\n",
    "    @abstractmethod\n",
    "    def process(self):\n",
    "        #print(\"running\")\n",
    "        pass\n",
    "class Laptop(Computer):\n",
    "    def process(self):\n",
    "        print(\"running\")\n",
    "class Whiteboard:\n",
    "    def write(self):\n",
    "        print(\"writing\")\n",
    "        \n",
    "class prorammer:\n",
    "    def work(self, com):\n",
    "        print(\"solving\")\n",
    "        com.process\n",
    "\n",
    "    \n",
    "#com = Computer()\n",
    "lap =Laptop()\n",
    "#com.proces()\n",
    "lap.process()\n",
    "prog =prorammer()\n",
    "prog.work(lap)\n",
    "        "
   ]
  },
  {
   "cell_type": "markdown",
   "id": "46d4f594",
   "metadata": {},
   "source": [
    "## multiple inheritance"
   ]
  },
  {
   "cell_type": "markdown",
   "id": "841341d6",
   "metadata": {},
   "source": [
    "#### Multiple inheritance is a feature of OOPs language in which an object or class can inherit characteristics and features from more than one parent object or the paent class.\n",
    "# Example\n"
   ]
  },
  {
   "cell_type": "code",
   "execution_count": 46,
   "id": "058568fe",
   "metadata": {},
   "outputs": [
    {
     "name": "stdout",
     "output_type": "stream",
     "text": [
      "father knows how to drive\n",
      "mother knows how to cook\n",
      "child loves playing\n"
     ]
    }
   ],
   "source": [
    "class Father():\n",
    "    def driving(self):\n",
    "        print(\"father knows how to drive\")\n",
    "        \n",
    "class Mother():\n",
    "        def cooking(self):\n",
    "            print(\"mother knows how to cook\")\n",
    "        \n",
    "class child(Father,Mother):\n",
    "    def playing(self):\n",
    "        print(\"child loves playing\")\n",
    "        \n",
    "c =child()\n",
    "c.driving()\n",
    "c.cooking()\n",
    "c.playing()"
   ]
  },
  {
   "cell_type": "markdown",
   "id": "2528c02d",
   "metadata": {},
   "source": [
    "## Decorator"
   ]
  },
  {
   "cell_type": "code",
   "execution_count": 50,
   "id": "e2a0479e",
   "metadata": {},
   "outputs": [],
   "source": [
    "### Decorator in python a function which takes input as argument and return an output as another function. We can use @ in front of method.\n",
    "\n",
    "def deco(fun):\n",
    "    def info():\n",
    "        print(\"info\")\n",
    "        fun()\n",
    "        print(\"rajneesh\")\n",
    "    return info\n",
    "\n"
   ]
  },
  {
   "cell_type": "code",
   "execution_count": 51,
   "id": "c8e6cd58",
   "metadata": {},
   "outputs": [
    {
     "name": "stdout",
     "output_type": "stream",
     "text": [
      "info\n",
      "test\n",
      "rajneesh\n"
     ]
    }
   ],
   "source": [
    "@deco\n",
    "def test():\n",
    "    print(\"test\")\n",
    "\n",
    "test()\n",
    "    \n"
   ]
  },
  {
   "cell_type": "code",
   "execution_count": null,
   "id": "943f2220",
   "metadata": {},
   "outputs": [],
   "source": []
  }
 ],
 "metadata": {
  "kernelspec": {
   "display_name": "Python 3",
   "language": "python",
   "name": "python3"
  },
  "language_info": {
   "codemirror_mode": {
    "name": "ipython",
    "version": 3
   },
   "file_extension": ".py",
   "mimetype": "text/x-python",
   "name": "python",
   "nbconvert_exporter": "python",
   "pygments_lexer": "ipython3",
   "version": "3.8.8"
  }
 },
 "nbformat": 4,
 "nbformat_minor": 5
}
